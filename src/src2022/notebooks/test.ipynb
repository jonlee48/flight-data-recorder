{
 "cells": [
  {
   "cell_type": "code",
   "metadata": {
    "tags": [],
    "cell_id": "87f2e367-c122-4ce4-a279-2b2d9756c615",
    "deepnote_to_be_reexecuted": false,
    "source_hash": "54ce952f",
    "execution_start": 1645793331526,
    "execution_millis": 1051,
    "deepnote_table_state": {
     "pageSize": 10,
     "pageIndex": 4,
     "filters": [],
     "sortBy": []
    },
    "deepnote_table_loading": false,
    "deepnote_table_invalid": false,
    "deepnote_cell_type": "code"
   },
   "source": "import pandas as pd\nimport numpy as np\nimport matplotlib.pyplot as plt\nfrom math import pi,sqrt,sin,cos,tan,acos,asin,atan2,radians,degrees\n\n\nfilepath = 'FLIGHT01.TXT'\n#df = pd.read_csv(filepath, sep=\",\")\ndf = pd.read_csv(filepath, header=None, sep='\\n')\ndf = df[0].str.split(',', expand=True)\ndf.columns = df.iloc[0] \ndf = df.drop(index=0)\ncolumns = list(df.columns)\ngps_idx = columns.index('gps_str')\ngps_rmc = ['gps_rmc','utc','gps_status','lat','n','lon','w','knots','track_angle','date','magnetic_varx','magnetic_vary','checksum']\nnew_columns = columns[:gps_idx] + gps_rmc\ndf = df.iloc[:,:len(new_columns)]\ndf.columns = new_columns\n\n# crop from start to end\nstart = 2135#2170\nend = 2300\ndf = df.iloc[start:end]\ndf",
   "execution_count": null,
   "outputs": [
    {
     "output_type": "execute_result",
     "execution_count": 1,
     "data": {
      "application/vnd.deepnote.dataframe.v3+json": {
       "column_count": 40,
       "row_count": 165,
       "columns": [
        {
         "name": "time_since_start",
         "dtype": "object",
         "stats": {
          "unique_count": 165,
          "nan_count": 0,
          "categories": [
           {
            "name": "214285",
            "count": 1
           },
           {
            "name": "214385",
            "count": 1
           },
           {
            "name": "163 others",
            "count": 163
           }
          ]
         }
        },
        {
         "name": "count",
         "dtype": "object",
         "stats": {
          "unique_count": 165,
          "nan_count": 0,
          "categories": [
           {
            "name": "2135",
            "count": 1
           },
           {
            "name": "2136",
            "count": 1
           },
           {
            "name": "163 others",
            "count": 163
           }
          ]
         }
        },
        {
         "name": "sys",
         "dtype": "object",
         "stats": {
          "unique_count": 4,
          "nan_count": 0,
          "categories": [
           {
            "name": "0",
            "count": 137
           },
           {
            "name": "3",
            "count": 15
           },
           {
            "name": "2 others",
            "count": 13
           }
          ]
         }
        },
        {
         "name": "p_stat",
         "dtype": "object",
         "stats": {
          "unique_count": 2,
          "nan_count": 0,
          "categories": [
           {
            "name": "2",
            "count": 122
           },
           {
            "name": "0",
            "count": 43
           }
          ]
         }
        },
        {
         "name": "p_pres",
         "dtype": "object",
         "stats": {
          "unique_count": 49,
          "nan_count": 0,
          "categories": [
           {
            "name": "8136.0",
            "count": 28
           },
           {
            "name": "8142.0",
            "count": 22
           },
           {
            "name": "47 others",
            "count": 115
           }
          ]
         }
        },
        {
         "name": "p_temp",
         "dtype": "object",
         "stats": {
          "unique_count": 3,
          "nan_count": 0,
          "categories": [
           {
            "name": "661.0",
            "count": 82
           },
           {
            "name": "662.0",
            "count": 53
           },
           {
            "name": "660.0",
            "count": 30
           }
          ]
         }
        },
        {
         "name": "p_psi",
         "dtype": "object",
         "stats": {
          "unique_count": 49,
          "nan_count": 0,
          "categories": [
           {
            "name": "0.0056291556",
            "count": 28
           },
           {
            "name": "0.0060360815",
            "count": 22
           },
           {
            "name": "47 others",
            "count": 115
           }
          ]
         }
        },
        {
         "name": "p_vel",
         "dtype": "object",
         "stats": {
          "unique_count": 49,
          "nan_count": 0,
          "categories": [
           {
            "name": "7.960",
            "count": 28
           },
           {
            "name": "8.243",
            "count": 22
           },
           {
            "name": "47 others",
            "count": 115
           }
          ]
         }
        },
        {
         "name": "p_cel",
         "dtype": "object",
         "stats": {
          "unique_count": 3,
          "nan_count": 0,
          "categories": [
           {
            "name": "14.582",
            "count": 82
           },
           {
            "name": "14.680",
            "count": 53
           },
           {
            "name": "14.485",
            "count": 30
           }
          ]
         }
        },
        {
         "name": "strain0",
         "dtype": "object",
         "stats": {
          "unique_count": 31,
          "nan_count": 0,
          "categories": [
           {
            "name": "170",
            "count": 20
           },
           {
            "name": "173",
            "count": 19
           },
           {
            "name": "29 others",
            "count": 126
           }
          ]
         }
        },
        {
         "name": "strain1",
         "dtype": "object",
         "stats": {
          "unique_count": 49,
          "nan_count": 0,
          "categories": [
           {
            "name": "26",
            "count": 28
           },
           {
            "name": "25",
            "count": 8
           },
           {
            "name": "47 others",
            "count": 129
           }
          ]
         }
        },
        {
         "name": "lin_x",
         "dtype": "object",
         "stats": {
          "unique_count": 140,
          "nan_count": 0,
          "categories": [
           {
            "name": "-0.020",
            "count": 4
           },
           {
            "name": "-4.520",
            "count": 3
           },
           {
            "name": "138 others",
            "count": 158
           }
          ]
         }
        },
        {
         "name": "lin_y",
         "dtype": "object",
         "stats": {
          "unique_count": 133,
          "nan_count": 0,
          "categories": [
           {
            "name": "0.150",
            "count": 4
           },
           {
            "name": "0.140",
            "count": 4
           },
           {
            "name": "131 others",
            "count": 157
           }
          ]
         }
        },
        {
         "name": "lin_z",
         "dtype": "object",
         "stats": {
          "unique_count": 145,
          "nan_count": 0,
          "categories": [
           {
            "name": "0.190",
            "count": 4
           },
           {
            "name": "0.060",
            "count": 3
           },
           {
            "name": "143 others",
            "count": 158
           }
          ]
         }
        },
        {
         "name": "rps_x",
         "dtype": "object",
         "stats": {
          "unique_count": 132,
          "nan_count": 0,
          "categories": [
           {
            "name": "-0.125",
            "count": 4
           },
           {
            "name": "0.625",
            "count": 4
           },
           {
            "name": "130 others",
            "count": 157
           }
          ]
         }
        },
        {
         "name": "rps_y",
         "dtype": "object",
         "stats": {
          "unique_count": 140,
          "nan_count": 0,
          "categories": [
           {
            "name": "0.187",
            "count": 5
           },
           {
            "name": "3.750",
            "count": 4
           },
           {
            "name": "138 others",
            "count": 156
           }
          ]
         }
        },
        {
         "name": "rps_z",
         "dtype": "object",
         "stats": {
          "unique_count": 104,
          "nan_count": 0,
          "categories": [
           {
            "name": "0.000",
            "count": 13
           },
           {
            "name": "0.062",
            "count": 12
           },
           {
            "name": "102 others",
            "count": 140
           }
          ]
         }
        },
        {
         "name": "euler_x",
         "dtype": "object",
         "stats": {
          "unique_count": 100,
          "nan_count": 0,
          "categories": [
           {
            "name": "-0.170",
            "count": 34
           },
           {
            "name": "-0.171",
            "count": 7
           },
           {
            "name": "98 others",
            "count": 124
           }
          ]
         }
        },
        {
         "name": "euler_y",
         "dtype": "object",
         "stats": {
          "unique_count": 88,
          "nan_count": 0,
          "categories": [
           {
            "name": "-0.190",
            "count": 19
           },
           {
            "name": "-0.191",
            "count": 9
           },
           {
            "name": "86 others",
            "count": 137
           }
          ]
         }
        },
        {
         "name": "euler_z",
         "dtype": "object",
         "stats": {
          "unique_count": 99,
          "nan_count": 0,
          "categories": [
           {
            "name": "-0.044",
            "count": 23
           },
           {
            "name": "-0.042",
            "count": 10
           },
           {
            "name": "97 others",
            "count": 132
           }
          ]
         }
        },
        {
         "name": "quat_w",
         "dtype": "object",
         "stats": {
          "unique_count": 64,
          "nan_count": 0,
          "categories": [
           {
            "name": "0.992",
            "count": 53
           },
           {
            "name": "0.387",
            "count": 7
           },
           {
            "name": "62 others",
            "count": 105
           }
          ]
         }
        },
        {
         "name": "quat_x",
         "dtype": "object",
         "stats": {
          "unique_count": 79,
          "nan_count": 0,
          "categories": [
           {
            "name": "-0.014",
            "count": 26
           },
           {
            "name": "-0.013",
            "count": 18
           },
           {
            "name": "77 others",
            "count": 121
           }
          ]
         }
        },
        {
         "name": "quat_y",
         "dtype": "object",
         "stats": {
          "unique_count": 73,
          "nan_count": 0,
          "categories": [
           {
            "name": "0.096",
            "count": 21
           },
           {
            "name": "0.097",
            "count": 13
           },
           {
            "name": "71 others",
            "count": 131
           }
          ]
         }
        },
        {
         "name": "quat_z",
         "dtype": "object",
         "stats": {
          "unique_count": 93,
          "nan_count": 0,
          "categories": [
           {
            "name": "-0.082",
            "count": 35
           },
           {
            "name": "-0.083",
            "count": 8
           },
           {
            "name": "91 others",
            "count": 122
           }
          ]
         }
        },
        {
         "name": "bmp_temp",
         "dtype": "object",
         "stats": {
          "unique_count": 113,
          "nan_count": 0,
          "categories": [
           {
            "name": "20.046",
            "count": 4
           },
           {
            "name": "19.921",
            "count": 4
           },
           {
            "name": "111 others",
            "count": 157
           }
          ]
         }
        },
        {
         "name": "bmp_pres",
         "dtype": "object",
         "stats": {
          "unique_count": 103,
          "nan_count": 0,
          "categories": [
           {
            "name": "1020.665",
            "count": 6
           },
           {
            "name": "1020.658",
            "count": 5
           },
           {
            "name": "101 others",
            "count": 154
           }
          ]
         }
        },
        {
         "name": "bmp_alt",
         "dtype": "object",
         "stats": {
          "unique_count": 145,
          "nan_count": 0,
          "categories": [
           {
            "name": "-61.497",
            "count": 3
           },
           {
            "name": "-61.672",
            "count": 3
           },
           {
            "name": "143 others",
            "count": 159
           }
          ]
         }
        },
        {
         "name": "gps_rmc",
         "dtype": "object",
         "stats": {
          "unique_count": 1,
          "nan_count": 0,
          "categories": [
           {
            "name": "$GPRMC",
            "count": 165
           }
          ]
         }
        },
        {
         "name": "utc",
         "dtype": "object",
         "stats": {
          "unique_count": 165,
          "nan_count": 0,
          "categories": [
           {
            "name": "151521.700",
            "count": 1
           },
           {
            "name": "151521.800",
            "count": 1
           },
           {
            "name": "163 others",
            "count": 163
           }
          ]
         }
        },
        {
         "name": "gps_status",
         "dtype": "object",
         "stats": {
          "unique_count": 1,
          "nan_count": 0,
          "categories": [
           {
            "name": "A",
            "count": 165
           }
          ]
         }
        },
        {
         "name": "lat",
         "dtype": "object",
         "stats": {
          "unique_count": 45,
          "nan_count": 0,
          "categories": [
           {
            "name": "3850.1216",
            "count": 79
           },
           {
            "name": "3850.1220",
            "count": 10
           },
           {
            "name": "43 others",
            "count": 76
           }
          ]
         }
        },
        {
         "name": "n",
         "dtype": "object",
         "stats": {
          "unique_count": 1,
          "nan_count": 0,
          "categories": [
           {
            "name": "N",
            "count": 165
           }
          ]
         }
        },
        {
         "name": "lon",
         "dtype": "object",
         "stats": {
          "unique_count": 87,
          "nan_count": 0,
          "categories": [
           {
            "name": "07730.3480",
            "count": 66
           },
           {
            "name": "07730.3990",
            "count": 4
           },
           {
            "name": "85 others",
            "count": 95
           }
          ]
         }
        },
        {
         "name": "w",
         "dtype": "object",
         "stats": {
          "unique_count": 1,
          "nan_count": 0,
          "categories": [
           {
            "name": "W",
            "count": 165
           }
          ]
         }
        },
        {
         "name": "knots",
         "dtype": "object",
         "stats": {
          "unique_count": 111,
          "nan_count": 0,
          "categories": [
           {
            "name": "0.01",
            "count": 33
           },
           {
            "name": "0.02",
            "count": 14
           },
           {
            "name": "109 others",
            "count": 118
           }
          ]
         }
        },
        {
         "name": "track_angle",
         "dtype": "object",
         "stats": {
          "unique_count": 163,
          "nan_count": 0,
          "categories": [
           {
            "name": "265.46",
            "count": 2
           },
           {
            "name": "265.06",
            "count": 2
           },
           {
            "name": "161 others",
            "count": 161
           }
          ]
         }
        },
        {
         "name": "date",
         "dtype": "object",
         "stats": {
          "unique_count": 2,
          "nan_count": 0,
          "categories": [
           {
            "name": "210222",
            "count": 164
           },
           {
            "name": "",
            "count": 1
           }
          ]
         }
        },
        {
         "name": "magnetic_varx",
         "dtype": "object",
         "stats": {
          "unique_count": 1,
          "nan_count": 0,
          "categories": [
           {
            "name": "",
            "count": 165
           }
          ]
         }
        },
        {
         "name": "magnetic_vary",
         "dtype": "object",
         "stats": {
          "unique_count": 2,
          "nan_count": 0,
          "categories": [
           {
            "name": "",
            "count": 164
           },
           {
            "name": "D*42",
            "count": 1
           }
          ]
         }
        },
        {
         "name": "checksum",
         "dtype": "object",
         "stats": {
          "unique_count": 32,
          "nan_count": 1,
          "categories": [
           {
            "name": "D*47",
            "count": 12
           },
           {
            "name": "31 others",
            "count": 152
           },
           {
            "name": "Missing",
            "count": 1
           }
          ]
         }
        },
        {
         "name": "_deepnote_index_column",
         "dtype": "int64"
        }
       ],
       "rows": [
        {
         "time_since_start": "218290",
         "count": "2175",
         "sys": "0",
         "p_stat": "2",
         "p_pres": "8139.0",
         "p_temp": "661.0",
         "p_psi": "0.0058326186",
         "p_vel": "8.103",
         "p_cel": "14.582",
         "strain0": "172",
         "strain1": "84",
         "lin_x": "-0.930",
         "lin_y": "-0.500",
         "lin_z": "0.630",
         "rps_x": "0.312",
         "rps_y": "-6.687",
         "rps_z": "0.375",
         "euler_x": "-0.171",
         "euler_y": "-0.186",
         "euler_z": "-0.041",
         "quat_w": "0.992",
         "quat_x": "-0.013",
         "quat_y": "0.094",
         "quat_z": "-0.083",
         "bmp_temp": "20.002",
         "bmp_pres": "1020.680",
         "bmp_alt": "-61.681",
         "gps_rmc": "$GPRMC",
         "utc": "151525.700",
         "gps_status": "A",
         "lat": "3850.1216",
         "n": "N",
         "lon": "07730.3480",
         "w": "W",
         "knots": "0.01",
         "track_angle": "256.88",
         "date": "210222",
         "magnetic_varx": "",
         "magnetic_vary": "",
         "checksum": "D*7E",
         "_deepnote_index_column": 2176
        },
        {
         "time_since_start": "218390",
         "count": "2176",
         "sys": "0",
         "p_stat": "2",
         "p_pres": "8133.0",
         "p_temp": "661.0",
         "p_psi": "0.0054256927",
         "p_vel": "7.815",
         "p_cel": "14.582",
         "strain0": "170",
         "strain1": "82",
         "lin_x": "1.630",
         "lin_y": "-0.010",
         "lin_z": "0.610",
         "rps_x": "3.188",
         "rps_y": "-2.813",
         "rps_z": "0.125",
         "euler_x": "-0.171",
         "euler_y": "-0.186",
         "euler_z": "-0.040",
         "quat_w": "0.992",
         "quat_x": "-0.012",
         "quat_y": "0.094",
         "quat_z": "-0.083",
         "bmp_temp": "20.003",
         "bmp_pres": "1020.664",
         "bmp_alt": "-61.542",
         "gps_rmc": "$GPRMC",
         "utc": "151525.800",
         "gps_status": "A",
         "lat": "3850.1216",
         "n": "N",
         "lon": "07730.3480",
         "w": "W",
         "knots": "0.02",
         "track_angle": "247.61",
         "date": "210222",
         "magnetic_varx": "",
         "magnetic_vary": "",
         "checksum": "D*75",
         "_deepnote_index_column": 2177
        },
        {
         "time_since_start": "218490",
         "count": "2177",
         "sys": "0",
         "p_stat": "2",
         "p_pres": "8142.0",
         "p_temp": "662.0",
         "p_psi": "0.0060360815",
         "p_vel": "8.243",
         "p_cel": "14.680",
         "strain0": "172",
         "strain1": "83",
         "lin_x": "-1.810",
         "lin_y": "-0.570",
         "lin_z": "1.280",
         "rps_x": "-1.750",
         "rps_y": "-3.938",
         "rps_z": "-1.375",
         "euler_x": "-0.172",
         "euler_y": "-0.182",
         "euler_z": "-0.041",
         "quat_w": "0.992",
         "quat_x": "-0.012",
         "quat_y": "0.092",
         "quat_z": "-0.084",
         "bmp_temp": "20.003",
         "bmp_pres": "1020.663",
         "bmp_alt": "-61.534",
         "gps_rmc": "$GPRMC",
         "utc": "151525.900",
         "gps_status": "A",
         "lat": "3850.1216",
         "n": "N",
         "lon": "07730.3480",
         "w": "W",
         "knots": "0.02",
         "track_angle": "250.06",
         "date": "210222",
         "magnetic_varx": "",
         "magnetic_vary": "",
         "checksum": "D*73",
         "_deepnote_index_column": 2178
        },
        {
         "time_since_start": "218590",
         "count": "2178",
         "sys": "0",
         "p_stat": "0",
         "p_pres": "8139.0",
         "p_temp": "661.0",
         "p_psi": "0.0058326186",
         "p_vel": "8.103",
         "p_cel": "14.582",
         "strain0": "173",
         "strain1": "85",
         "lin_x": "-1.640",
         "lin_y": "-0.400",
         "lin_z": "1.660",
         "rps_x": "0.625",
         "rps_y": "-3.375",
         "rps_z": "-2.063",
         "euler_x": "-0.174",
         "euler_y": "-0.182",
         "euler_z": "-0.042",
         "quat_w": "0.992",
         "quat_x": "-0.013",
         "quat_y": "0.092",
         "quat_z": "-0.085",
         "bmp_temp": "20.005",
         "bmp_pres": "1020.675",
         "bmp_alt": "-61.633",
         "gps_rmc": "$GPRMC",
         "utc": "151526.000",
         "gps_status": "A",
         "lat": "3850.1216",
         "n": "N",
         "lon": "07730.3480",
         "w": "W",
         "knots": "0.01",
         "track_angle": "253.94",
         "date": "210222",
         "magnetic_varx": "",
         "magnetic_vary": "",
         "checksum": "D*72",
         "_deepnote_index_column": 2179
        },
        {
         "time_since_start": "218690",
         "count": "2179",
         "sys": "0",
         "p_stat": "2",
         "p_pres": "8142.0",
         "p_temp": "661.0",
         "p_psi": "0.0060360815",
         "p_vel": "8.243",
         "p_cel": "14.582",
         "strain0": "169",
         "strain1": "84",
         "lin_x": "0.840",
         "lin_y": "-0.360",
         "lin_z": "-0.490",
         "rps_x": "0.000",
         "rps_y": "-5.187",
         "rps_z": "-1.687",
         "euler_x": "-0.178",
         "euler_y": "-0.183",
         "euler_z": "-0.043",
         "quat_w": "0.992",
         "quat_x": "-0.013",
         "quat_y": "0.093",
         "quat_z": "-0.086",
         "bmp_temp": "20.005",
         "bmp_pres": "1020.667",
         "bmp_alt": "-61.571",
         "gps_rmc": "$GPRMC",
         "utc": "151526.100",
         "gps_status": "A",
         "lat": "3850.1216",
         "n": "N",
         "lon": "07730.3480",
         "w": "W",
         "knots": "0.02",
         "track_angle": "255.87",
         "date": "210222",
         "magnetic_varx": "",
         "magnetic_vary": "",
         "checksum": "D*74",
         "_deepnote_index_column": 2180
        },
        {
         "time_since_start": "218790",
         "count": "2180",
         "sys": "0",
         "p_stat": "0",
         "p_pres": "8145.0",
         "p_temp": "661.0",
         "p_psi": "0.0062395444",
         "p_vel": "8.381",
         "p_cel": "14.582",
         "strain0": "172",
         "strain1": "81",
         "lin_x": "0.060",
         "lin_y": "1.210",
         "lin_z": "0.060",
         "rps_x": "3.438",
         "rps_y": "-3.313",
         "rps_z": "-0.187",
         "euler_x": "-0.179",
         "euler_y": "-0.182",
         "euler_z": "-0.042",
         "quat_w": "0.992",
         "quat_x": "-0.013",
         "quat_y": "0.092",
         "quat_z": "-0.087",
         "bmp_temp": "20.008",
         "bmp_pres": "1020.671",
         "bmp_alt": "-61.603",
         "gps_rmc": "$GPRMC",
         "utc": "151526.200",
         "gps_status": "A",
         "lat": "3850.1216",
         "n": "N",
         "lon": "07730.3480",
         "w": "W",
         "knots": "0.02",
         "track_angle": "257.17",
         "date": "210222",
         "magnetic_varx": "",
         "magnetic_vary": "",
         "checksum": "D*7C",
         "_deepnote_index_column": 2181
        },
        {
         "time_since_start": "218890",
         "count": "2181",
         "sys": "0",
         "p_stat": "0",
         "p_pres": "8142.0",
         "p_temp": "661.0",
         "p_psi": "0.0060360815",
         "p_vel": "8.243",
         "p_cel": "14.582",
         "strain0": "171",
         "strain1": "87",
         "lin_x": "-0.020",
         "lin_y": "-0.390",
         "lin_z": "-1.050",
         "rps_x": "1.687",
         "rps_y": "-0.937",
         "rps_z": "-0.562",
         "euler_x": "-0.179",
         "euler_y": "-0.183",
         "euler_z": "-0.042",
         "quat_w": "0.992",
         "quat_x": "-0.013",
         "quat_y": "0.093",
         "quat_z": "-0.087",
         "bmp_temp": "20.009",
         "bmp_pres": "1020.664",
         "bmp_alt": "-61.543",
         "gps_rmc": "$GPRMC",
         "utc": "151526.300",
         "gps_status": "A",
         "lat": "3850.1216",
         "n": "N",
         "lon": "07730.3480",
         "w": "W",
         "knots": "0.02",
         "track_angle": "266.38",
         "date": "210222",
         "magnetic_varx": "",
         "magnetic_vary": "",
         "checksum": "D*72",
         "_deepnote_index_column": 2182
        },
        {
         "time_since_start": "218990",
         "count": "2182",
         "sys": "0",
         "p_stat": "0",
         "p_pres": "8142.0",
         "p_temp": "661.0",
         "p_psi": "0.0060360815",
         "p_vel": "8.243",
         "p_cel": "14.582",
         "strain0": "173",
         "strain1": "81",
         "lin_x": "0.240",
         "lin_y": "-0.040",
         "lin_z": "-0.290",
         "rps_x": "1.625",
         "rps_y": "-0.812",
         "rps_z": "0.000",
         "euler_x": "-0.179",
         "euler_y": "-0.182",
         "euler_z": "-0.042",
         "quat_w": "0.992",
         "quat_x": "-0.013",
         "quat_y": "0.093",
         "quat_z": "-0.087",
         "bmp_temp": "20.011",
         "bmp_pres": "1020.657",
         "bmp_alt": "-61.486",
         "gps_rmc": "$GPRMC",
         "utc": "151526.400",
         "gps_status": "A",
         "lat": "3850.1216",
         "n": "N",
         "lon": "07730.3480",
         "w": "W",
         "knots": "0.02",
         "track_angle": "265.46",
         "date": "210222",
         "magnetic_varx": "",
         "magnetic_vary": "",
         "checksum": "D*7F",
         "_deepnote_index_column": 2183
        },
        {
         "time_since_start": "219090",
         "count": "2183",
         "sys": "0",
         "p_stat": "2",
         "p_pres": "8136.0",
         "p_temp": "661.0",
         "p_psi": "0.0056291556",
         "p_vel": "7.960",
         "p_cel": "14.582",
         "strain0": "173",
         "strain1": "88",
         "lin_x": "-1.100",
         "lin_y": "0.650",
         "lin_z": "0.020",
         "rps_x": "0.062",
         "rps_y": "-2.688",
         "rps_z": "-0.187",
         "euler_x": "-0.179",
         "euler_y": "-0.182",
         "euler_z": "-0.042",
         "quat_w": "0.992",
         "quat_x": "-0.013",
         "quat_y": "0.092",
         "quat_z": "-0.087",
         "bmp_temp": "20.013",
         "bmp_pres": "1020.673",
         "bmp_alt": "-61.620",
         "gps_rmc": "$GPRMC",
         "utc": "151526.500",
         "gps_status": "A",
         "lat": "3850.1216",
         "n": "N",
         "lon": "07730.3480",
         "w": "W",
         "knots": "0.03",
         "track_angle": "268.08",
         "date": "210222",
         "magnetic_varx": "",
         "magnetic_vary": "",
         "checksum": "D*78",
         "_deepnote_index_column": 2184
        },
        {
         "time_since_start": "219190",
         "count": "2184",
         "sys": "0",
         "p_stat": "0",
         "p_pres": "8139.0",
         "p_temp": "661.0",
         "p_psi": "0.0058326186",
         "p_vel": "8.103",
         "p_cel": "14.582",
         "strain0": "175",
         "strain1": "85",
         "lin_x": "-1.900",
         "lin_y": "-0.970",
         "lin_z": "0.300",
         "rps_x": "3.000",
         "rps_y": "0.687",
         "rps_z": "0.000",
         "euler_x": "-0.179",
         "euler_y": "-0.180",
         "euler_z": "-0.041",
         "quat_w": "0.992",
         "quat_x": "-0.012",
         "quat_y": "0.092",
         "quat_z": "-0.087",
         "bmp_temp": "20.014",
         "bmp_pres": "1020.667",
         "bmp_alt": "-61.573",
         "gps_rmc": "$GPRMC",
         "utc": "151526.600",
         "gps_status": "A",
         "lat": "3850.1216",
         "n": "N",
         "lon": "07730.3480",
         "w": "W",
         "knots": "0.02",
         "track_angle": "265.08",
         "date": "210222",
         "magnetic_varx": "",
         "magnetic_vary": "",
         "checksum": "D*77",
         "_deepnote_index_column": 2185
        }
       ]
      },
      "text/plain": "     time_since_start count sys p_stat  p_pres p_temp         p_psi  p_vel  \\\n2136           214285  2135   0      2  8133.0  661.0  0.0054256927  7.815   \n2137           214385  2136   0      2  8139.0  661.0  0.0058326186  8.103   \n2138           214485  2137   0      2  8136.0  661.0  0.0056291556  7.960   \n2139           214585  2138   0      2  8136.0  661.0  0.0056291556  7.960   \n2140           214685  2139   0      2  8136.0  662.0  0.0056291556  7.960   \n...               ...   ...  ..    ...     ...    ...           ...    ...   \n2296           230311  2295   3      2  8127.0  660.0  0.0050187668  7.516   \n2297           230411  2296   3      2  8133.0  660.0  0.0054256927  7.815   \n2298           230511  2297   3      0  8139.0  660.0  0.0058326186  8.103   \n2299           230611  2298   3      0  8133.0  660.0  0.0054256927  7.815   \n2300           230711  2299   3      2  8136.0  660.0  0.0056291556  7.960   \n\n       p_cel strain0  ...        lat  n         lon  w knots track_angle  \\\n2136  14.582     169  ...  3850.1216  N  07730.3480  W  0.02       84.11   \n2137  14.582     174  ...  3850.1216  N  07730.3480  W  0.02       82.88   \n2138  14.582     168  ...  3850.1216  N  07730.3480  W  0.02       79.48   \n2139  14.582     168  ...  3850.1216  N  07730.3480  W  0.02       85.25   \n2140  14.680     173  ...  3850.1216  N  07730.3480  W  0.01       82.86   \n...      ...     ...  ...        ... ..         ... ..   ...         ...   \n2296  14.485     174  ...  3850.1091  N  07730.3979  W  6.01      225.02   \n2297  14.485     177  ...  3850.1092  N  07730.3976  W  5.61      224.85   \n2298  14.485     174  ...  3850.1092  N  07730.3973  W  5.42      224.84   \n2299  14.485     171  ...  3850.1092  N  07730.3971  W  5.25      224.83   \n2300  14.485     178  ...  3850.1092  N  07730.3969  W  5.09      224.77   \n\n        date magnetic_varx magnetic_vary checksum  \n2136  210222                                 D*44  \n2137  210222                                 D*4D  \n2138  210222                                 D*44  \n2139  210222                                 D*46  \n2140  210222                                 D*4A  \n...      ...           ...           ...      ...  \n2296  210222                                 D*7B  \n2297  210222                                 D*73  \n2298  210222                                 D*77  \n2299  210222                                 D*75  \n2300  210222                                 D*78  \n\n[165 rows x 40 columns]",
      "text/html": "<div>\n<style scoped>\n    .dataframe tbody tr th:only-of-type {\n        vertical-align: middle;\n    }\n\n    .dataframe tbody tr th {\n        vertical-align: top;\n    }\n\n    .dataframe thead th {\n        text-align: right;\n    }\n</style>\n<table border=\"1\" class=\"dataframe\">\n  <thead>\n    <tr style=\"text-align: right;\">\n      <th></th>\n      <th>time_since_start</th>\n      <th>count</th>\n      <th>sys</th>\n      <th>p_stat</th>\n      <th>p_pres</th>\n      <th>p_temp</th>\n      <th>p_psi</th>\n      <th>p_vel</th>\n      <th>p_cel</th>\n      <th>strain0</th>\n      <th>...</th>\n      <th>lat</th>\n      <th>n</th>\n      <th>lon</th>\n      <th>w</th>\n      <th>knots</th>\n      <th>track_angle</th>\n      <th>date</th>\n      <th>magnetic_varx</th>\n      <th>magnetic_vary</th>\n      <th>checksum</th>\n    </tr>\n  </thead>\n  <tbody>\n    <tr>\n      <th>2136</th>\n      <td>214285</td>\n      <td>2135</td>\n      <td>0</td>\n      <td>2</td>\n      <td>8133.0</td>\n      <td>661.0</td>\n      <td>0.0054256927</td>\n      <td>7.815</td>\n      <td>14.582</td>\n      <td>169</td>\n      <td>...</td>\n      <td>3850.1216</td>\n      <td>N</td>\n      <td>07730.3480</td>\n      <td>W</td>\n      <td>0.02</td>\n      <td>84.11</td>\n      <td>210222</td>\n      <td></td>\n      <td></td>\n      <td>D*44</td>\n    </tr>\n    <tr>\n      <th>2137</th>\n      <td>214385</td>\n      <td>2136</td>\n      <td>0</td>\n      <td>2</td>\n      <td>8139.0</td>\n      <td>661.0</td>\n      <td>0.0058326186</td>\n      <td>8.103</td>\n      <td>14.582</td>\n      <td>174</td>\n      <td>...</td>\n      <td>3850.1216</td>\n      <td>N</td>\n      <td>07730.3480</td>\n      <td>W</td>\n      <td>0.02</td>\n      <td>82.88</td>\n      <td>210222</td>\n      <td></td>\n      <td></td>\n      <td>D*4D</td>\n    </tr>\n    <tr>\n      <th>2138</th>\n      <td>214485</td>\n      <td>2137</td>\n      <td>0</td>\n      <td>2</td>\n      <td>8136.0</td>\n      <td>661.0</td>\n      <td>0.0056291556</td>\n      <td>7.960</td>\n      <td>14.582</td>\n      <td>168</td>\n      <td>...</td>\n      <td>3850.1216</td>\n      <td>N</td>\n      <td>07730.3480</td>\n      <td>W</td>\n      <td>0.02</td>\n      <td>79.48</td>\n      <td>210222</td>\n      <td></td>\n      <td></td>\n      <td>D*44</td>\n    </tr>\n    <tr>\n      <th>2139</th>\n      <td>214585</td>\n      <td>2138</td>\n      <td>0</td>\n      <td>2</td>\n      <td>8136.0</td>\n      <td>661.0</td>\n      <td>0.0056291556</td>\n      <td>7.960</td>\n      <td>14.582</td>\n      <td>168</td>\n      <td>...</td>\n      <td>3850.1216</td>\n      <td>N</td>\n      <td>07730.3480</td>\n      <td>W</td>\n      <td>0.02</td>\n      <td>85.25</td>\n      <td>210222</td>\n      <td></td>\n      <td></td>\n      <td>D*46</td>\n    </tr>\n    <tr>\n      <th>2140</th>\n      <td>214685</td>\n      <td>2139</td>\n      <td>0</td>\n      <td>2</td>\n      <td>8136.0</td>\n      <td>662.0</td>\n      <td>0.0056291556</td>\n      <td>7.960</td>\n      <td>14.680</td>\n      <td>173</td>\n      <td>...</td>\n      <td>3850.1216</td>\n      <td>N</td>\n      <td>07730.3480</td>\n      <td>W</td>\n      <td>0.01</td>\n      <td>82.86</td>\n      <td>210222</td>\n      <td></td>\n      <td></td>\n      <td>D*4A</td>\n    </tr>\n    <tr>\n      <th>...</th>\n      <td>...</td>\n      <td>...</td>\n      <td>...</td>\n      <td>...</td>\n      <td>...</td>\n      <td>...</td>\n      <td>...</td>\n      <td>...</td>\n      <td>...</td>\n      <td>...</td>\n      <td>...</td>\n      <td>...</td>\n      <td>...</td>\n      <td>...</td>\n      <td>...</td>\n      <td>...</td>\n      <td>...</td>\n      <td>...</td>\n      <td>...</td>\n      <td>...</td>\n      <td>...</td>\n    </tr>\n    <tr>\n      <th>2296</th>\n      <td>230311</td>\n      <td>2295</td>\n      <td>3</td>\n      <td>2</td>\n      <td>8127.0</td>\n      <td>660.0</td>\n      <td>0.0050187668</td>\n      <td>7.516</td>\n      <td>14.485</td>\n      <td>174</td>\n      <td>...</td>\n      <td>3850.1091</td>\n      <td>N</td>\n      <td>07730.3979</td>\n      <td>W</td>\n      <td>6.01</td>\n      <td>225.02</td>\n      <td>210222</td>\n      <td></td>\n      <td></td>\n      <td>D*7B</td>\n    </tr>\n    <tr>\n      <th>2297</th>\n      <td>230411</td>\n      <td>2296</td>\n      <td>3</td>\n      <td>2</td>\n      <td>8133.0</td>\n      <td>660.0</td>\n      <td>0.0054256927</td>\n      <td>7.815</td>\n      <td>14.485</td>\n      <td>177</td>\n      <td>...</td>\n      <td>3850.1092</td>\n      <td>N</td>\n      <td>07730.3976</td>\n      <td>W</td>\n      <td>5.61</td>\n      <td>224.85</td>\n      <td>210222</td>\n      <td></td>\n      <td></td>\n      <td>D*73</td>\n    </tr>\n    <tr>\n      <th>2298</th>\n      <td>230511</td>\n      <td>2297</td>\n      <td>3</td>\n      <td>0</td>\n      <td>8139.0</td>\n      <td>660.0</td>\n      <td>0.0058326186</td>\n      <td>8.103</td>\n      <td>14.485</td>\n      <td>174</td>\n      <td>...</td>\n      <td>3850.1092</td>\n      <td>N</td>\n      <td>07730.3973</td>\n      <td>W</td>\n      <td>5.42</td>\n      <td>224.84</td>\n      <td>210222</td>\n      <td></td>\n      <td></td>\n      <td>D*77</td>\n    </tr>\n    <tr>\n      <th>2299</th>\n      <td>230611</td>\n      <td>2298</td>\n      <td>3</td>\n      <td>0</td>\n      <td>8133.0</td>\n      <td>660.0</td>\n      <td>0.0054256927</td>\n      <td>7.815</td>\n      <td>14.485</td>\n      <td>171</td>\n      <td>...</td>\n      <td>3850.1092</td>\n      <td>N</td>\n      <td>07730.3971</td>\n      <td>W</td>\n      <td>5.25</td>\n      <td>224.83</td>\n      <td>210222</td>\n      <td></td>\n      <td></td>\n      <td>D*75</td>\n    </tr>\n    <tr>\n      <th>2300</th>\n      <td>230711</td>\n      <td>2299</td>\n      <td>3</td>\n      <td>2</td>\n      <td>8136.0</td>\n      <td>660.0</td>\n      <td>0.0056291556</td>\n      <td>7.960</td>\n      <td>14.485</td>\n      <td>178</td>\n      <td>...</td>\n      <td>3850.1092</td>\n      <td>N</td>\n      <td>07730.3969</td>\n      <td>W</td>\n      <td>5.09</td>\n      <td>224.77</td>\n      <td>210222</td>\n      <td></td>\n      <td></td>\n      <td>D*78</td>\n    </tr>\n  </tbody>\n</table>\n<p>165 rows × 40 columns</p>\n</div>"
     },
     "metadata": {}
    }
   ]
  },
  {
   "cell_type": "code",
   "metadata": {
    "cell_id": "c993e216-1886-4270-94d9-0a66e06fcf02",
    "tags": [],
    "deepnote_to_be_reexecuted": false,
    "source_hash": "9cb69237",
    "execution_start": 1645793332591,
    "execution_millis": 60,
    "deepnote_cell_type": "code"
   },
   "source": "import plotly.graph_objects as go\n\n## converts float from degree-minute-second to degree, latitude conversion\ndef dd_lat(x):\n    degrees = int(float(x)) // 100\n    minutes = float(x) - 100*degrees\n    return degrees + minutes/60\n\n## converts float from degree-minute-second to degree, longitude conversion\ndef dd_lon(x):\n    return -dd_lat(x)\n\nlats = df['lat'].apply(dd_lat, 1)\nlons = df['lon'].apply(dd_lon, 1)\n\nfig = go.Figure(go.Scattermapbox(\n    mode = \"markers+lines\",\n    lon = lons,\n    lat = lats,\n    marker = {'size': 8}))\n\nfig.update_layout(\n    margin ={'l':0,'t':0,'b':0,'r':0},\n    mapbox = {\n        'style': \"stamen-terrain\",\n        'center': {'lon': lons.median(), 'lat': lats.median()},\n        'zoom': 18})",
   "execution_count": null,
   "outputs": [
    {
     "data": {
      "text/html": "<html>\n<head><meta charset=\"utf-8\" /></head>\n<body>\n    <div>            <script src=\"https://cdnjs.cloudflare.com/ajax/libs/mathjax/2.7.5/MathJax.js?config=TeX-AMS-MML_SVG\"></script><script type=\"text/javascript\">if (window.MathJax) {MathJax.Hub.Config({SVG: {font: \"STIX-Web\"}});}</script>                <script type=\"text/javascript\">window.PlotlyConfig = {MathJaxConfig: 'local'};</script>\n        <script src=\"https://cdn.plot.ly/plotly-2.9.0.min.js\"></script>                <div id=\"83bb889b-e436-4b8e-9caa-a78263a2cf01\" class=\"plotly-graph-div\" style=\"height:525px; width:100%;\"></div>            <script type=\"text/javascript\">                                    window.PLOTLYENV=window.PLOTLYENV || {};                                    if (document.getElementById(\"83bb889b-e436-4b8e-9caa-a78263a2cf01\")) {                    Plotly.newPlot(                        \"83bb889b-e436-4b8e-9caa-a78263a2cf01\",                        [{\"lat\":[38.83536,38.83536,38.83536,38.83536,38.83536,38.83536,38.83536,38.83536,38.83536,38.83536,38.83536,38.83536,38.83536,38.83536,38.83536,38.83536,38.83536,38.83536,38.83536,38.83536,38.83536,38.83536,38.83536,38.83536,38.83536,38.83536,38.83536,38.83536,38.83536,38.83536,38.83536,38.83536,38.83536,38.83536,38.83536,38.83536,38.83536,38.83536,38.83536,38.83536,38.83536,38.83536,38.83536,38.83536,38.83536,38.83536,38.83536,38.83536,38.83536,38.83536,38.83536,38.83536,38.83536,38.83536,38.83536,38.83536,38.83536,38.83536,38.83536,38.83536,38.83536,38.83536,38.83536,38.83536,38.83536,38.83536,38.83536,38.83536,38.83536,38.83536,38.83536,38.83536,38.83536,38.83536,38.83536,38.83536,38.83536,38.83536,38.83536166666667,38.83536333333333,38.83536333333333,38.83536333333333,38.83536333333333,38.83536333333333,38.83536333333333,38.83536333333333,38.835365,38.835365,38.835366666666665,38.835366666666665,38.835366666666665,38.835366666666665,38.835366666666665,38.835366666666665,38.835366666666665,38.835366666666665,38.835368333333335,38.835368333333335,38.835368333333335,38.835368333333335,38.835368333333335,38.83537,38.83537,38.83537,38.835368333333335,38.835368333333335,38.835368333333335,38.835368333333335,38.835366666666665,38.835366666666665,38.835365,38.83536333333333,38.83536,38.83535666666667,38.83535333333334,38.83535,38.835345,38.835339999999995,38.835335,38.83533,38.835323333333335,38.83531666666667,38.83530833333334,38.835301666666666,38.83529333333333,38.835285,38.835276666666665,38.83526666666667,38.83525833333333,38.835251666666665,38.83524333333333,38.835235,38.83522666666667,38.83521833333334,38.835211666666666,38.835204999999995,38.8352,38.83519666666667,38.83519,38.83518333333333,38.83517833333334,38.83517333333334,38.83516833333333,38.835166666666666,38.835164999999996,38.835166666666666,38.835166666666666,38.835166666666666,38.83516833333333,38.83516833333333,38.835164999999996,38.835163333333334,38.835159999999995,38.83515666666666,38.835155,38.835155,38.83515333333333,38.83515333333333,38.83515166666667,38.83515333333333,38.83515166666667,38.83515333333333,38.83515333333333,38.83515333333333,38.83515333333333],\"lon\":[-77.5058,-77.5058,-77.5058,-77.5058,-77.5058,-77.5058,-77.5058,-77.5058,-77.5058,-77.5058,-77.5058,-77.5058,-77.5058,-77.5058,-77.5058,-77.5058,-77.5058,-77.5058,-77.5058,-77.5058,-77.5058,-77.5058,-77.5058,-77.5058,-77.5058,-77.5058,-77.5058,-77.5058,-77.5058,-77.5058,-77.5058,-77.5058,-77.5058,-77.5058,-77.5058,-77.5058,-77.5058,-77.5058,-77.5058,-77.5058,-77.5058,-77.5058,-77.5058,-77.5058,-77.5058,-77.5058,-77.5058,-77.5058,-77.5058,-77.5058,-77.5058,-77.5058,-77.5058,-77.5058,-77.5058,-77.5058,-77.5058,-77.5058,-77.5058,-77.5058,-77.5058,-77.5058,-77.5058,-77.5058,-77.5058,-77.5058,-77.50580166666667,-77.50580166666667,-77.50580166666667,-77.50580333333333,-77.505805,-77.50580666666666,-77.50581000000001,-77.50581166666666,-77.505815,-77.50581666666668,-77.50582,-77.50582333333334,-77.50582666666666,-77.50583,-77.50583333333334,-77.50583666666667,-77.50584,-77.505845,-77.50585,-77.50585500000001,-77.50586,-77.505865,-77.50587166666666,-77.50587666666667,-77.50588333333333,-77.50589166666667,-77.50589833333333,-77.50590666666668,-77.505915,-77.50592499999999,-77.50593333333333,-77.50594333333333,-77.505955,-77.505965,-77.50597666666665,-77.50598833333333,-77.50600166666666,-77.50601333333334,-77.50602666666667,-77.50604166666668,-77.506055,-77.50607166666667,-77.50608666666668,-77.50610166666667,-77.50611833333333,-77.506135,-77.50615333333333,-77.50617166666666,-77.50619,-77.50621,-77.50623,-77.50624833333333,-77.50626833333334,-77.50629,-77.50631,-77.50632999999999,-77.50635166666666,-77.50637333333334,-77.50639333333334,-77.506415,-77.50643666666666,-77.50645833333333,-77.50647833333333,-77.50649666666666,-77.50651500000001,-77.50653166666666,-77.50655,-77.50656666666667,-77.50658,-77.50659166666667,-77.50660166666667,-77.50660833333333,-77.50661666666666,-77.50662333333334,-77.50663333333334,-77.50664166666667,-77.50664666666667,-77.50664833333333,-77.50665166666666,-77.50665000000001,-77.50664666666667,-77.50664499999999,-77.50664333333334,-77.50664166666667,-77.50664499999999,-77.50664666666667,-77.50664833333333,-77.50665000000001,-77.50665166666666,-77.50665000000001,-77.50665000000001,-77.50664333333334,-77.50663833333333,-77.50663166666666,-77.50663166666666,-77.50662666666668,-77.50662166666666,-77.50661833333334,-77.506615],\"marker\":{\"size\":8},\"mode\":\"markers+lines\",\"type\":\"scattermapbox\"}],                        {\"template\":{\"data\":{\"bar\":[{\"error_x\":{\"color\":\"#2a3f5f\"},\"error_y\":{\"color\":\"#2a3f5f\"},\"marker\":{\"line\":{\"color\":\"#E5ECF6\",\"width\":0.5},\"pattern\":{\"fillmode\":\"overlay\",\"size\":10,\"solidity\":0.2}},\"type\":\"bar\"}],\"barpolar\":[{\"marker\":{\"line\":{\"color\":\"#E5ECF6\",\"width\":0.5},\"pattern\":{\"fillmode\":\"overlay\",\"size\":10,\"solidity\":0.2}},\"type\":\"barpolar\"}],\"carpet\":[{\"aaxis\":{\"endlinecolor\":\"#2a3f5f\",\"gridcolor\":\"white\",\"linecolor\":\"white\",\"minorgridcolor\":\"white\",\"startlinecolor\":\"#2a3f5f\"},\"baxis\":{\"endlinecolor\":\"#2a3f5f\",\"gridcolor\":\"white\",\"linecolor\":\"white\",\"minorgridcolor\":\"white\",\"startlinecolor\":\"#2a3f5f\"},\"type\":\"carpet\"}],\"choropleth\":[{\"colorbar\":{\"outlinewidth\":0,\"ticks\":\"\"},\"type\":\"choropleth\"}],\"contour\":[{\"colorbar\":{\"outlinewidth\":0,\"ticks\":\"\"},\"colorscale\":[[0.0,\"#0d0887\"],[0.1111111111111111,\"#46039f\"],[0.2222222222222222,\"#7201a8\"],[0.3333333333333333,\"#9c179e\"],[0.4444444444444444,\"#bd3786\"],[0.5555555555555556,\"#d8576b\"],[0.6666666666666666,\"#ed7953\"],[0.7777777777777778,\"#fb9f3a\"],[0.8888888888888888,\"#fdca26\"],[1.0,\"#f0f921\"]],\"type\":\"contour\"}],\"contourcarpet\":[{\"colorbar\":{\"outlinewidth\":0,\"ticks\":\"\"},\"type\":\"contourcarpet\"}],\"heatmap\":[{\"colorbar\":{\"outlinewidth\":0,\"ticks\":\"\"},\"colorscale\":[[0.0,\"#0d0887\"],[0.1111111111111111,\"#46039f\"],[0.2222222222222222,\"#7201a8\"],[0.3333333333333333,\"#9c179e\"],[0.4444444444444444,\"#bd3786\"],[0.5555555555555556,\"#d8576b\"],[0.6666666666666666,\"#ed7953\"],[0.7777777777777778,\"#fb9f3a\"],[0.8888888888888888,\"#fdca26\"],[1.0,\"#f0f921\"]],\"type\":\"heatmap\"}],\"heatmapgl\":[{\"colorbar\":{\"outlinewidth\":0,\"ticks\":\"\"},\"colorscale\":[[0.0,\"#0d0887\"],[0.1111111111111111,\"#46039f\"],[0.2222222222222222,\"#7201a8\"],[0.3333333333333333,\"#9c179e\"],[0.4444444444444444,\"#bd3786\"],[0.5555555555555556,\"#d8576b\"],[0.6666666666666666,\"#ed7953\"],[0.7777777777777778,\"#fb9f3a\"],[0.8888888888888888,\"#fdca26\"],[1.0,\"#f0f921\"]],\"type\":\"heatmapgl\"}],\"histogram\":[{\"marker\":{\"pattern\":{\"fillmode\":\"overlay\",\"size\":10,\"solidity\":0.2}},\"type\":\"histogram\"}],\"histogram2d\":[{\"colorbar\":{\"outlinewidth\":0,\"ticks\":\"\"},\"colorscale\":[[0.0,\"#0d0887\"],[0.1111111111111111,\"#46039f\"],[0.2222222222222222,\"#7201a8\"],[0.3333333333333333,\"#9c179e\"],[0.4444444444444444,\"#bd3786\"],[0.5555555555555556,\"#d8576b\"],[0.6666666666666666,\"#ed7953\"],[0.7777777777777778,\"#fb9f3a\"],[0.8888888888888888,\"#fdca26\"],[1.0,\"#f0f921\"]],\"type\":\"histogram2d\"}],\"histogram2dcontour\":[{\"colorbar\":{\"outlinewidth\":0,\"ticks\":\"\"},\"colorscale\":[[0.0,\"#0d0887\"],[0.1111111111111111,\"#46039f\"],[0.2222222222222222,\"#7201a8\"],[0.3333333333333333,\"#9c179e\"],[0.4444444444444444,\"#bd3786\"],[0.5555555555555556,\"#d8576b\"],[0.6666666666666666,\"#ed7953\"],[0.7777777777777778,\"#fb9f3a\"],[0.8888888888888888,\"#fdca26\"],[1.0,\"#f0f921\"]],\"type\":\"histogram2dcontour\"}],\"mesh3d\":[{\"colorbar\":{\"outlinewidth\":0,\"ticks\":\"\"},\"type\":\"mesh3d\"}],\"parcoords\":[{\"line\":{\"colorbar\":{\"outlinewidth\":0,\"ticks\":\"\"}},\"type\":\"parcoords\"}],\"pie\":[{\"automargin\":true,\"type\":\"pie\"}],\"scatter\":[{\"marker\":{\"colorbar\":{\"outlinewidth\":0,\"ticks\":\"\"}},\"type\":\"scatter\"}],\"scatter3d\":[{\"line\":{\"colorbar\":{\"outlinewidth\":0,\"ticks\":\"\"}},\"marker\":{\"colorbar\":{\"outlinewidth\":0,\"ticks\":\"\"}},\"type\":\"scatter3d\"}],\"scattercarpet\":[{\"marker\":{\"colorbar\":{\"outlinewidth\":0,\"ticks\":\"\"}},\"type\":\"scattercarpet\"}],\"scattergeo\":[{\"marker\":{\"colorbar\":{\"outlinewidth\":0,\"ticks\":\"\"}},\"type\":\"scattergeo\"}],\"scattergl\":[{\"marker\":{\"colorbar\":{\"outlinewidth\":0,\"ticks\":\"\"}},\"type\":\"scattergl\"}],\"scattermapbox\":[{\"marker\":{\"colorbar\":{\"outlinewidth\":0,\"ticks\":\"\"}},\"type\":\"scattermapbox\"}],\"scatterpolar\":[{\"marker\":{\"colorbar\":{\"outlinewidth\":0,\"ticks\":\"\"}},\"type\":\"scatterpolar\"}],\"scatterpolargl\":[{\"marker\":{\"colorbar\":{\"outlinewidth\":0,\"ticks\":\"\"}},\"type\":\"scatterpolargl\"}],\"scatterternary\":[{\"marker\":{\"colorbar\":{\"outlinewidth\":0,\"ticks\":\"\"}},\"type\":\"scatterternary\"}],\"surface\":[{\"colorbar\":{\"outlinewidth\":0,\"ticks\":\"\"},\"colorscale\":[[0.0,\"#0d0887\"],[0.1111111111111111,\"#46039f\"],[0.2222222222222222,\"#7201a8\"],[0.3333333333333333,\"#9c179e\"],[0.4444444444444444,\"#bd3786\"],[0.5555555555555556,\"#d8576b\"],[0.6666666666666666,\"#ed7953\"],[0.7777777777777778,\"#fb9f3a\"],[0.8888888888888888,\"#fdca26\"],[1.0,\"#f0f921\"]],\"type\":\"surface\"}],\"table\":[{\"cells\":{\"fill\":{\"color\":\"#EBF0F8\"},\"line\":{\"color\":\"white\"}},\"header\":{\"fill\":{\"color\":\"#C8D4E3\"},\"line\":{\"color\":\"white\"}},\"type\":\"table\"}]},\"layout\":{\"annotationdefaults\":{\"arrowcolor\":\"#2a3f5f\",\"arrowhead\":0,\"arrowwidth\":1},\"autotypenumbers\":\"strict\",\"coloraxis\":{\"colorbar\":{\"outlinewidth\":0,\"ticks\":\"\"}},\"colorscale\":{\"diverging\":[[0,\"#8e0152\"],[0.1,\"#c51b7d\"],[0.2,\"#de77ae\"],[0.3,\"#f1b6da\"],[0.4,\"#fde0ef\"],[0.5,\"#f7f7f7\"],[0.6,\"#e6f5d0\"],[0.7,\"#b8e186\"],[0.8,\"#7fbc41\"],[0.9,\"#4d9221\"],[1,\"#276419\"]],\"sequential\":[[0.0,\"#0d0887\"],[0.1111111111111111,\"#46039f\"],[0.2222222222222222,\"#7201a8\"],[0.3333333333333333,\"#9c179e\"],[0.4444444444444444,\"#bd3786\"],[0.5555555555555556,\"#d8576b\"],[0.6666666666666666,\"#ed7953\"],[0.7777777777777778,\"#fb9f3a\"],[0.8888888888888888,\"#fdca26\"],[1.0,\"#f0f921\"]],\"sequentialminus\":[[0.0,\"#0d0887\"],[0.1111111111111111,\"#46039f\"],[0.2222222222222222,\"#7201a8\"],[0.3333333333333333,\"#9c179e\"],[0.4444444444444444,\"#bd3786\"],[0.5555555555555556,\"#d8576b\"],[0.6666666666666666,\"#ed7953\"],[0.7777777777777778,\"#fb9f3a\"],[0.8888888888888888,\"#fdca26\"],[1.0,\"#f0f921\"]]},\"colorway\":[\"#636efa\",\"#EF553B\",\"#00cc96\",\"#ab63fa\",\"#FFA15A\",\"#19d3f3\",\"#FF6692\",\"#B6E880\",\"#FF97FF\",\"#FECB52\"],\"font\":{\"color\":\"#2a3f5f\"},\"geo\":{\"bgcolor\":\"white\",\"lakecolor\":\"white\",\"landcolor\":\"#E5ECF6\",\"showlakes\":true,\"showland\":true,\"subunitcolor\":\"white\"},\"hoverlabel\":{\"align\":\"left\"},\"hovermode\":\"closest\",\"mapbox\":{\"style\":\"light\"},\"paper_bgcolor\":\"white\",\"plot_bgcolor\":\"#E5ECF6\",\"polar\":{\"angularaxis\":{\"gridcolor\":\"white\",\"linecolor\":\"white\",\"ticks\":\"\"},\"bgcolor\":\"#E5ECF6\",\"radialaxis\":{\"gridcolor\":\"white\",\"linecolor\":\"white\",\"ticks\":\"\"}},\"scene\":{\"xaxis\":{\"backgroundcolor\":\"#E5ECF6\",\"gridcolor\":\"white\",\"gridwidth\":2,\"linecolor\":\"white\",\"showbackground\":true,\"ticks\":\"\",\"zerolinecolor\":\"white\"},\"yaxis\":{\"backgroundcolor\":\"#E5ECF6\",\"gridcolor\":\"white\",\"gridwidth\":2,\"linecolor\":\"white\",\"showbackground\":true,\"ticks\":\"\",\"zerolinecolor\":\"white\"},\"zaxis\":{\"backgroundcolor\":\"#E5ECF6\",\"gridcolor\":\"white\",\"gridwidth\":2,\"linecolor\":\"white\",\"showbackground\":true,\"ticks\":\"\",\"zerolinecolor\":\"white\"}},\"shapedefaults\":{\"line\":{\"color\":\"#2a3f5f\"}},\"ternary\":{\"aaxis\":{\"gridcolor\":\"white\",\"linecolor\":\"white\",\"ticks\":\"\"},\"baxis\":{\"gridcolor\":\"white\",\"linecolor\":\"white\",\"ticks\":\"\"},\"bgcolor\":\"#E5ECF6\",\"caxis\":{\"gridcolor\":\"white\",\"linecolor\":\"white\",\"ticks\":\"\"}},\"title\":{\"x\":0.05},\"xaxis\":{\"automargin\":true,\"gridcolor\":\"white\",\"linecolor\":\"white\",\"ticks\":\"\",\"title\":{\"standoff\":15},\"zerolinecolor\":\"white\",\"zerolinewidth\":2},\"yaxis\":{\"automargin\":true,\"gridcolor\":\"white\",\"linecolor\":\"white\",\"ticks\":\"\",\"title\":{\"standoff\":15},\"zerolinecolor\":\"white\",\"zerolinewidth\":2}}},\"margin\":{\"l\":0,\"t\":0,\"b\":0,\"r\":0},\"mapbox\":{\"center\":{\"lon\":-77.50584,\"lat\":38.83536},\"style\":\"stamen-terrain\",\"zoom\":18}},                        {\"responsive\": true}                    ).then(function(){\n                            \nvar gd = document.getElementById('83bb889b-e436-4b8e-9caa-a78263a2cf01');\nvar x = new MutationObserver(function (mutations, observer) {{\n        var display = window.getComputedStyle(gd).display;\n        if (!display || display === 'none') {{\n            console.log([gd, 'removed!']);\n            Plotly.purge(gd);\n            observer.disconnect();\n        }}\n}});\n\n// Listen for the removal of the full notebook cells\nvar notebookContainer = gd.closest('#notebook-container');\nif (notebookContainer) {{\n    x.observe(notebookContainer, {childList: true});\n}}\n\n// Listen for the clearing of the current output cell\nvar outputEl = gd.closest('.output');\nif (outputEl) {{\n    x.observe(outputEl, {childList: true});\n}}\n\n                        })                };                            </script>        </div>\n</body>\n</html>"
     },
     "metadata": {},
     "output_type": "display_data"
    }
   ]
  },
  {
   "cell_type": "code",
   "metadata": {
    "cell_id": "7525a97b-8f91-4a89-a530-6b428b426a20",
    "tags": [],
    "deepnote_to_be_reexecuted": false,
    "source_hash": "1e9a620f",
    "execution_start": 1645793332664,
    "execution_millis": 34,
    "deepnote_cell_type": "code"
   },
   "source": "def ms2mph(ms):\n    return 2.236936*float(ms)\n\ndef haversine(row):\n    lat1 = float(row['prev_lat'])\n    long1 = float(row['prev_lon'])\n    lat2 = float(row['lat'])\n    long2 = float(row['lon'])\n    degree_to_rad = float(pi / 180.0)\n    d_lat = (lat2 - lat1) * degree_to_rad\n    d_long = (long2 - long1) * degree_to_rad\n    a = pow(sin(d_lat / 2), 2) + cos(lat1 * degree_to_rad) * cos(lat2 * degree_to_rad) * pow(sin(d_long / 2), 2)\n    c = 2 * atan2(sqrt(a), sqrt(1 - a))\n    mi = 3956 * c\n    return mi\n\n# input a row from dataframe\n# returns the speed using distance/time\ndef speed(row):\n    millis = int(row['time_since_start']) - int(row['prev_time_since_start'])\n    hours = millis / 36000\n    return row['delta'] / hours\n\ndf['prev_lat'] = df['lat'].shift(1)\ndf['prev_lon'] = df['lon'].shift(1)\ndf['prev_time_since_start'] = df['time_since_start'].shift(1)\n# deletes first row\ndf.dropna(inplace=True)\n# delta distance\ndf['delta'] = df.apply(lambda row: haversine(row), axis=1)\n# add mph column\ndf['mph'] = df.apply(lambda row: speed(row), axis=1)\n\n#pitot = df['p_vel'].apply(ms2mph, 1)\n#ax.plot(x,pitot)\n\n# about 30.34 inhg barametric pressure \n#https://www.localconditions.com/weather-centreville-virginia/20120/charts.php\nseaLevel = 1027.4303214666768\n\ndef m2ft(m):\n    return 3.28084*float(m)\n\n#hpa to m\ndef pres2alt(hpa):\n    atmospheric = float(hpa) / 100.0;\n    return 44330.0 * (1.0 - pow(atmospheric / seaLevel, 0.1903));\n\n#df_alt = df['bmp_alt'].astype(float) - float(df.iloc[0]['bmp_alt'])\n\n\ndf_alt = df['bmp_pres'].apply(pres2alt,1).apply(m2ft,1)\ndf_alt = df_alt-df_alt.iloc[0]\nalt = df_alt.apply(m2ft, 1)\n\n\n\n#fig, ax = plt.subplots(figsize=(8,6))\n#ax.plot(x,alt)\n#ax.set_xlabel(\"seconds\")\n#ax.set_ylabel(\"feet\")\n#ax.set_title(\"altitude vs time\")\n#ax.legend(['gps speed','calculated'])\n\n\n\n\n#y = df['mph'].astype(float)\n#plt.figure(figsize=(8,10))\n#ax.plot(x,y)\n#ax.set_xlabel(\"seconds\")\n#ax.set_ylabel(\"mph\")\n#ax.set_title(\"mph vs time\")\n#ax.legend(['groundspeed','calculated'])\n#ax.legend(['groundspeed', 'altitude'])",
   "execution_count": null,
   "outputs": []
  },
  {
   "cell_type": "code",
   "metadata": {
    "cell_id": "e85b3f33-17b5-46aa-97b7-80c32aefe550",
    "tags": [],
    "deepnote_to_be_reexecuted": false,
    "source_hash": "24eda9d9",
    "execution_start": 1645793332759,
    "execution_millis": 1724,
    "deepnote_cell_type": "code"
   },
   "source": "import matplotlib as mpl\n\n\ndef knots2mph(knots):\n    return 1.150779*float(knots)\n\n\n\nfig, axs = plt.subplots(2,1,figsize=(10,8))\nx = (df.index-start)/10\n\nknots = df['knots'].apply(knots2mph, 1)\n#knots = knots.shift(-7)\naxs[0].set_xlim(0, 16)\naxs[1].set_xlim(0, 16)\n\n# vertical\naxs[0].plot([6.0, 6.0], [0, 0], linestyle='dashed', color='#78BE20')\naxs[0].plot([10.1, 10.1], [0, 29], linestyle='dashed', color='#FFC72C')\naxs[0].plot([12.3, 12.3], [0, 41.6], linestyle='dashed', color='#C9102F')\n\n\naxs[1].axvline(x=6.0, color='#78BE20', linestyle='--')\naxs[1].axvline(x=10.1, color='#FFC72C', linestyle='--')\naxs[1].axvline(x=12.3, color='#C9102F', linestyle='--')\n\n#horizontal\naxs[0].plot([0, 6.0], [0, 0], linestyle='dashed', color='#78BE20')\naxs[0].plot([0, 10.1], [29, 29], linestyle='dashed', color='#FFC72C')\naxs[0].plot([0, 12.3], [41.6, 41.6], linestyle='dashed', color='#C9102F')\n\n\naxs[0].plot(x-0.7,knots,color='#033C5A')\n\n\nlinz = df['lin_z'].astype(float).apply(m2ft,1)\naxs[1].plot(x, linz, color='#AA9868')\n\n\n\nprint(\"max speed: {} mph\".format(str(max(knots))))\n\ndef idx2time(i):\n    return int((i+0.7)*10) + start\n\nprint(\"initial speed: {} mph\".format(str(knots2mph(df.loc[idx2time(6.0)]['knots']))))\nprint(\"take off speed: {} mph\".format(str(knots2mph(df.loc[idx2time(10.1)]['knots']))))\nprint(\"max speed: {} mph\".format(str(knots2mph(df.loc[idx2time(12.3)]['knots']))))\n\n\nmpl.rc('xtick', labelsize=15)\nmpl.rc('ytick', labelsize=15) \naxs[0].axhline(y=0, color='k')\naxs[0].axvline(x=0, color='k')\naxs[1].axhline(y=0, color='k')\naxs[1].axvline(x=0, color='k')\naxs[1].set_xlabel('Time [s]', fontsize=15)\naxs[0].set_ylabel('Ground Speed [mph]', fontsize=15)\naxs[1].set_ylabel('Vertical Acceleration [$\\dfrac{ft}{s^2}$]', fontsize=15)\n\naxs[1].grid();\naxs[0].grid();\n\n\naxs[0].legend(['Ground Roll Begins','Liftoff','Impact'], loc='lower left', fontsize=15)\naxs[1].legend(['Ground Roll Begins','Liftoff','Impact'], loc='lower left', fontsize=15)\n\nfig.savefig('output/groundspeed.png', dpi=300);\n",
   "execution_count": null,
   "outputs": [
    {
     "name": "stdout",
     "text": "max speed: 46.905752039999996 mph\ninitial speed: 0.41428043999999997 mph\ntake off speed: 27.98694528 mph\nmax speed: 41.658199800000006 mph\n",
     "output_type": "stream"
    },
    {
     "data": {
      "text/plain": "<Figure size 720x576 with 2 Axes>",
      "image/png": "[encoded data removed]"
     },
     "metadata": {
      "needs_background": "light",
      "image/png": {
       "width": 652,
       "height": 485
      }
     },
     "output_type": "display_data"
    }
   ]
  },
  {
   "cell_type": "code",
   "metadata": {
    "cell_id": "793c03c1-8691-4c47-b13e-2b98a9a0b5c6",
    "tags": [],
    "deepnote_to_be_reexecuted": false,
    "source_hash": "829eae55",
    "execution_start": 1645793334462,
    "execution_millis": 257,
    "deepnote_cell_type": "code"
   },
   "source": "# strain gauges\n\nfig, ax = plt.subplots(figsize=(8,6))\nax.plot(df.index,df['strain0'].astype(float))\nax.plot(df.index,df['strain1'].astype(float))\nax.set_xlabel(\"seconds\")\nax.set_ylabel(\"raw strain gauge counts\")\nax.set_title(\"strain gauge reading vs time\")\nax.legend(['wingbox deflection','fuselage deflection'])",
   "execution_count": null,
   "outputs": [
    {
     "output_type": "execute_result",
     "execution_count": 5,
     "data": {
      "text/plain": "<matplotlib.legend.Legend at 0x7f5bb84b5510>"
     },
     "metadata": {}
    },
    {
     "data": {
      "text/plain": "<Figure size 576x432 with 1 Axes>",
      "image/png": "[encoded data removed]"
     },
     "metadata": {
      "needs_background": "light",
      "image/png": {
       "width": 510,
       "height": 392
      }
     },
     "output_type": "display_data"
    }
   ]
  },
  {
   "cell_type": "code",
   "metadata": {
    "cell_id": "94d8dc10-95d9-46c8-b635-72e0ef95e8b5",
    "tags": [],
    "deepnote_to_be_reexecuted": false,
    "source_hash": "2fe339dc",
    "execution_start": 1645793334724,
    "execution_millis": 252,
    "deepnote_cell_type": "code"
   },
   "source": "# about 30.34 inhg barametric pressure \n#https://www.localconditions.com/weather-centreville-virginia/20120/charts.php\nseaLevel = 1027.4303214666768\n\ndef m2ft(m):\n    return 3.28084*float(m)\n\n#hpa to m\ndef pres2alt(hpa):\n    atmospheric = float(hpa) / 100.0;\n    return 44330.0 * (1.0 - pow(atmospheric / seaLevel, 0.1903));\n\n#df_alt = df['bmp_alt'].astype(float) - float(df.iloc[0]['bmp_alt'])\ndf_alt = df['bmp_pres'].apply(pres2alt,1).apply(m2ft,1)\ndf_alt = df_alt-df_alt.iloc[0]\nalt = df_alt.apply(m2ft, 1)\n\n\n\nfig, ax = plt.subplots(figsize=(8,6))\nax.plot(df.index,alt)\nax.set_xlabel(\"seconds\")\nax.set_ylabel(\"feet\")\nax.set_title(\"altitude vs time\")\n#ax.legend(['gps speed','calculated'])\n",
   "execution_count": null,
   "outputs": [
    {
     "output_type": "execute_result",
     "execution_count": 6,
     "data": {
      "text/plain": "Text(0.5, 1.0, 'altitude vs time')"
     },
     "metadata": {}
    },
    {
     "data": {
      "text/plain": "<Figure size 576x432 with 1 Axes>",
      "image/png": "[encoded data removed]"
     },
     "metadata": {
      "needs_background": "light",
      "image/png": {
       "width": 513,
       "height": 392
      }
     },
     "output_type": "display_data"
    }
   ]
  },
  {
   "cell_type": "code",
   "metadata": {
    "cell_id": "a591e306-f476-4110-9515-170f338765ee",
    "tags": [],
    "deepnote_to_be_reexecuted": false,
    "source_hash": "651ad380",
    "execution_start": 1645793334979,
    "execution_millis": 4,
    "deepnote_cell_type": "code"
   },
   "source": "df.index",
   "execution_count": null,
   "outputs": [
    {
     "output_type": "execute_result",
     "execution_count": 7,
     "data": {
      "text/plain": "Int64Index([2137, 2138, 2139, 2140, 2141, 2142, 2143, 2144, 2145, 2146,\n            ...\n            2291, 2292, 2293, 2294, 2295, 2296, 2297, 2298, 2299, 2300],\n           dtype='int64', length=163)"
     },
     "metadata": {}
    }
   ]
  },
  {
   "cell_type": "code",
   "metadata": {
    "cell_id": "7693c3e8-f1a4-4b4a-a252-dbfaeabe50fe",
    "tags": [],
    "deepnote_to_be_reexecuted": false,
    "source_hash": "2eb6b971",
    "execution_start": 1645793334984,
    "execution_millis": 177,
    "deepnote_cell_type": "code"
   },
   "source": "import pandas as pd\nimport numpy as np\nimport matplotlib.pyplot as plt\n%matplotlib inline\n\nfilepath = 'FLIGHT01.TXT'\n#df = pd.read_csv(filepath, sep=\",\")\ndf = pd.read_csv(filepath, header=None, sep='\\n')\ndf = df[0].str.split(',', expand=True)\ndf.columns = df.iloc[0] \ndf = df.drop(index=0)",
   "execution_count": null,
   "outputs": []
  },
  {
   "cell_type": "code",
   "metadata": {
    "cell_id": "b7616567-4d47-43a6-a655-80d2959d9fba",
    "tags": [],
    "deepnote_to_be_reexecuted": false,
    "source_hash": "d909e562",
    "execution_start": 1645793335239,
    "execution_millis": 236,
    "deepnote_cell_type": "code"
   },
   "source": "fname = 'FLIGHT01.TXT'\ntime_since_start, p_vel = np.loadtxt(fname, delimiter=',', skiprows=5, unpack=True, usecols=(0, 7))\n\nstart = 2240\nend = 2290\n\ntime_since_start = time_since_start[start:end]\np_vel = p_vel[start:end]\n\nplt.figure(figsize=(10, 5))\n\nplt.plot(time_since_start, p_vel, linestyle='-.', linewidth=1, alpha=0.5, label='Data')\n\nplt.xlabel('Time')\nplt.ylabel('Velocity')\nplt.legend(loc='best', fontsize=15)\nplt.grid();\n",
   "execution_count": null,
   "outputs": [
    {
     "data": {
      "text/plain": "<Figure size 720x360 with 1 Axes>",
      "image/png": "[encoded data removed]"
     },
     "metadata": {
      "needs_background": "light",
      "image/png": {
       "width": 612,
       "height": 322
      }
     },
     "output_type": "display_data"
    }
   ]
  },
  {
   "cell_type": "code",
   "metadata": {
    "cell_id": "f27d9b5f-d93c-4bc3-ad7b-979065546059",
    "tags": [],
    "deepnote_to_be_reexecuted": false,
    "source_hash": "b623e53d",
    "execution_start": 1645793335476,
    "execution_millis": 2,
    "deepnote_cell_type": "code"
   },
   "source": "",
   "execution_count": null,
   "outputs": []
  },
  {
   "cell_type": "markdown",
   "source": "<a style='text-decoration:none;line-height:16px;display:flex;color:#5B5B62;padding:10px;justify-content:end;' href='https://deepnote.com?utm_source=created-in-deepnote-cell&projectId=5505152a-0b2f-4f1a-b46f-59a354116aef' target=\"_blank\">\n<img alt='Created in deepnote.com' style='display:inline;max-height:16px;margin:0px;margin-right:7.5px;' src='data:image/svg+xml;base64,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' > </img>\nCreated in <span style='font-weight:600;margin-left:4px;'>Deepnote</span></a>",
   "metadata": {
    "tags": [],
    "created_in_deepnote_cell": true,
    "deepnote_cell_type": "markdown"
   }
  }
 ],
 "nbformat": 4,
 "nbformat_minor": 2,
 "metadata": {
  "orig_nbformat": 2,
  "deepnote": {
   "is_reactive": false
  },
  "deepnote_notebook_id": "4d14675f-b5c0-4ece-84a2-08c795d99f53",
  "deepnote_execution_queue": []
 }
}