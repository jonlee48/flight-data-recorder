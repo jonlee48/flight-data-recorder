{
 "cells": [
  {
   "cell_type": "markdown",
   "metadata": {},
   "source": [
    "### This is a notebook to read in the flight data and get the stats on it\n",
    "### For Sam (:"
   ]
  },
  {
   "cell_type": "code",
   "execution_count": 12,
   "metadata": {},
   "outputs": [],
   "source": [
    "#import stuff\n",
    "import pandas as pd\n",
    "import matplotlib.pyplot as plt\n",
    "from pylab import rcParams"
   ]
  },
  {
   "cell_type": "code",
   "execution_count": 18,
   "metadata": {},
   "outputs": [],
   "source": [
    "#make sure to put an r before the string\n",
    "data_file_path = r'/Users/Jonathan Lee/MyFiles/FlightRecorder2/FL1_data_cleaned.csv'"
   ]
  },
  {
   "cell_type": "code",
   "execution_count": 19,
   "metadata": {},
   "outputs": [],
   "source": [
    "#this reads in the data\n",
    "df_fd = pd.read_csv(data_file_path)"
   ]
  },
  {
   "cell_type": "code",
   "execution_count": 20,
   "metadata": {},
   "outputs": [
    {
     "data": {
      "text/html": [
       "<div>\n",
       "<style scoped>\n",
       "    .dataframe tbody tr th:only-of-type {\n",
       "        vertical-align: middle;\n",
       "    }\n",
       "\n",
       "    .dataframe tbody tr th {\n",
       "        vertical-align: top;\n",
       "    }\n",
       "\n",
       "    .dataframe thead th {\n",
       "        text-align: right;\n",
       "    }\n",
       "</style>\n",
       "<table border=\"1\" class=\"dataframe\">\n",
       "  <thead>\n",
       "    <tr style=\"text-align: right;\">\n",
       "      <th></th>\n",
       "      <th>time</th>\n",
       "      <th>heading</th>\n",
       "      <th>pitch</th>\n",
       "      <th>roll</th>\n",
       "      <th>xaccel</th>\n",
       "      <th>yaccel</th>\n",
       "      <th>zaccel</th>\n",
       "      <th>temp</th>\n",
       "      <th>pressure</th>\n",
       "      <th>altitude</th>\n",
       "    </tr>\n",
       "  </thead>\n",
       "  <tbody>\n",
       "    <tr>\n",
       "      <th>0</th>\n",
       "      <td>0.0</td>\n",
       "      <td>127.39</td>\n",
       "      <td>0.0</td>\n",
       "      <td>0.0</td>\n",
       "      <td>0.04</td>\n",
       "      <td>0.01</td>\n",
       "      <td>0.10</td>\n",
       "      <td>61.96</td>\n",
       "      <td>1014.29</td>\n",
       "      <td>0.00</td>\n",
       "    </tr>\n",
       "    <tr>\n",
       "      <th>1</th>\n",
       "      <td>0.1</td>\n",
       "      <td>127.39</td>\n",
       "      <td>0.0</td>\n",
       "      <td>0.0</td>\n",
       "      <td>0.04</td>\n",
       "      <td>0.01</td>\n",
       "      <td>0.12</td>\n",
       "      <td>61.96</td>\n",
       "      <td>1014.29</td>\n",
       "      <td>0.05</td>\n",
       "    </tr>\n",
       "    <tr>\n",
       "      <th>2</th>\n",
       "      <td>0.2</td>\n",
       "      <td>127.39</td>\n",
       "      <td>0.0</td>\n",
       "      <td>0.0</td>\n",
       "      <td>0.02</td>\n",
       "      <td>0.02</td>\n",
       "      <td>0.08</td>\n",
       "      <td>61.96</td>\n",
       "      <td>1014.29</td>\n",
       "      <td>0.01</td>\n",
       "    </tr>\n",
       "    <tr>\n",
       "      <th>3</th>\n",
       "      <td>0.3</td>\n",
       "      <td>127.39</td>\n",
       "      <td>0.0</td>\n",
       "      <td>0.0</td>\n",
       "      <td>0.05</td>\n",
       "      <td>0.01</td>\n",
       "      <td>0.09</td>\n",
       "      <td>61.96</td>\n",
       "      <td>1014.29</td>\n",
       "      <td>0.00</td>\n",
       "    </tr>\n",
       "    <tr>\n",
       "      <th>4</th>\n",
       "      <td>0.4</td>\n",
       "      <td>127.39</td>\n",
       "      <td>0.0</td>\n",
       "      <td>0.0</td>\n",
       "      <td>0.06</td>\n",
       "      <td>0.02</td>\n",
       "      <td>0.11</td>\n",
       "      <td>61.96</td>\n",
       "      <td>1014.30</td>\n",
       "      <td>0.11</td>\n",
       "    </tr>\n",
       "  </tbody>\n",
       "</table>\n",
       "</div>"
      ],
      "text/plain": [
       "   time  heading  pitch  roll  xaccel  yaccel  zaccel   temp  pressure  \\\n",
       "0   0.0   127.39    0.0   0.0    0.04    0.01    0.10  61.96   1014.29   \n",
       "1   0.1   127.39    0.0   0.0    0.04    0.01    0.12  61.96   1014.29   \n",
       "2   0.2   127.39    0.0   0.0    0.02    0.02    0.08  61.96   1014.29   \n",
       "3   0.3   127.39    0.0   0.0    0.05    0.01    0.09  61.96   1014.29   \n",
       "4   0.4   127.39    0.0   0.0    0.06    0.02    0.11  61.96   1014.30   \n",
       "\n",
       "   altitude  \n",
       "0      0.00  \n",
       "1      0.05  \n",
       "2      0.01  \n",
       "3      0.00  \n",
       "4      0.11  "
      ]
     },
     "execution_count": 20,
     "metadata": {},
     "output_type": "execute_result"
    }
   ],
   "source": [
    "#shows the data\n",
    "df_fd.head()"
   ]
  },
  {
   "cell_type": "code",
   "execution_count": 24,
   "metadata": {},
   "outputs": [],
   "source": [
    "# This will run it automatically if you set it up right\n",
    "file_names = ['FL1_data_cleaned.csv', 'FL2_data_cleaned.csv', 'FL3_data_cleaned.csv']\n",
    "file_path_to_files = r'/Users/Jonathan Lee/MyFiles/FlightRecorder2/'"
   ]
  },
  {
   "cell_type": "code",
   "execution_count": 25,
   "metadata": {},
   "outputs": [],
   "source": [
    "list_flights_data = []\n",
    "\n",
    "#function adds all of the flight data into a list (a list of dataframes)\n",
    "for file_name in file_names:\n",
    "    data_file_path = file_path_to_files + file_name\n",
    "    df_temp = pd.read_csv(data_file_path)\n",
    "    list_flights_data.append(df_temp)"
   ]
  },
  {
   "cell_type": "code",
   "execution_count": 26,
   "metadata": {},
   "outputs": [],
   "source": [
    "#function to get the stats of the data\n",
    "def get_stats(df_fd,col):\n",
    "    avg = df_fd[col].mean()\n",
    "    stdev = df_fd[col].std()\n",
    "    maxx = df_fd[col].max()\n",
    "    minn = df_fd[col].min()\n",
    "    fun_time = {'col':col, 'avg':avg, 'stdev':stdev, 'max':maxx, 'min':minn}\n",
    "    return fun_time"
   ]
  },
  {
   "cell_type": "code",
   "execution_count": 27,
   "metadata": {},
   "outputs": [],
   "source": [
    "#this prints out all of the data you need\n",
    "flights_data = {}\n",
    "count = 0\n",
    "for flight in list_flights_data:\n",
    "    count = count + 1\n",
    "    cols = flight.columns\n",
    "    temp_flight_data = []\n",
    "    for col in cols:\n",
    "        temp_flight_data.append(get_stats(flight, col))\n",
    "    flights_data[f'flight{count}'] = temp_flight_data"
   ]
  },
  {
   "cell_type": "code",
   "execution_count": 28,
   "metadata": {},
   "outputs": [],
   "source": [
    "# This shows you how to access the data"
   ]
  },
  {
   "cell_type": "code",
   "execution_count": 30,
   "metadata": {},
   "outputs": [],
   "source": [
    "# Which flight do you want?\n",
    "flight_number = 2\n",
    "\n",
    "#dont change this lol\n",
    "dict_name = f'flight{flight_number}'"
   ]
  },
  {
   "cell_type": "code",
   "execution_count": 31,
   "metadata": {},
   "outputs": [
    {
     "data": {
      "text/plain": [
       "[{'col': 'time',\n",
       "  'avg': 109.8960845839017,\n",
       "  'stdev': 63.49403832499087,\n",
       "  'max': 219.8,\n",
       "  'min': 0.0},\n",
       " {'col': 'heading',\n",
       "  'avg': 186.59421555252393,\n",
       "  'stdev': 93.19615966184008,\n",
       "  'max': 359.64,\n",
       "  'min': 1.15},\n",
       " {'col': 'pitch',\n",
       "  'avg': 3.127767166894065,\n",
       "  'stdev': 11.232407802808153,\n",
       "  'max': 49.540000000000006,\n",
       "  'min': -30.15},\n",
       " {'col': 'roll',\n",
       "  'avg': 216.85350613915523,\n",
       "  'stdev': 152.13309185133141,\n",
       "  'max': 355.97,\n",
       "  'min': -3.9499999999999886},\n",
       " {'col': 'xaccel',\n",
       "  'avg': -1.6286175534333722,\n",
       "  'stdev': 3.4887973449568106,\n",
       "  'max': 8.96,\n",
       "  'min': -17.14},\n",
       " {'col': 'yaccel',\n",
       "  'avg': 0.7098180991359666,\n",
       "  'stdev': 1.956286910100695,\n",
       "  'max': 36.5,\n",
       "  'min': -8.83},\n",
       " {'col': 'zaccel',\n",
       "  'avg': -2.347221464301948,\n",
       "  'stdev': 6.216534262448045,\n",
       "  'max': 31.75,\n",
       "  'min': -35.4},\n",
       " {'col': 'temp',\n",
       "  'avg': 66.12609367894493,\n",
       "  'stdev': 1.0255525474674523,\n",
       "  'max': 67.93,\n",
       "  'min': 65.0},\n",
       " {'col': 'pressure',\n",
       "  'avg': 1009.9752069122308,\n",
       "  'stdev': 1.6000961755749497,\n",
       "  'max': 1012.47,\n",
       "  'min': 1006.45},\n",
       " {'col': 'altitude',\n",
       "  'avg': 19.082064574806733,\n",
       "  'stdev': 13.355536242654502,\n",
       "  'max': 48.53,\n",
       "  'min': -1.66}]"
      ]
     },
     "execution_count": 31,
     "metadata": {},
     "output_type": "execute_result"
    }
   ],
   "source": [
    "#tada! This gives you all of the data for that specific flight\n",
    "flights_data[dict_name]"
   ]
  },
  {
   "cell_type": "code",
   "execution_count": null,
   "metadata": {},
   "outputs": [],
   "source": []
  },
  {
   "cell_type": "code",
   "execution_count": null,
   "metadata": {},
   "outputs": [],
   "source": []
  },
  {
   "cell_type": "code",
   "execution_count": null,
   "metadata": {},
   "outputs": [],
   "source": []
  },
  {
   "cell_type": "code",
   "execution_count": null,
   "metadata": {},
   "outputs": [],
   "source": []
  }
 ],
 "metadata": {
  "kernelspec": {
   "display_name": "Python 3",
   "language": "python",
   "name": "python3"
  },
  "language_info": {
   "codemirror_mode": {
    "name": "ipython",
    "version": 3
   },
   "file_extension": ".py",
   "mimetype": "text/x-python",
   "name": "python",
   "nbconvert_exporter": "python",
   "pygments_lexer": "ipython3",
   "version": "3.7.3"
  }
 },
 "nbformat": 4,
 "nbformat_minor": 4
}
